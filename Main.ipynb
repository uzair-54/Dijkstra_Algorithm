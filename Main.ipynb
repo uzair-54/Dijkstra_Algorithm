{
 "cells": [
  {
   "cell_type": "code",
   "execution_count": 1,
   "metadata": {},
   "outputs": [
    {
     "data": {
      "image/png": "[encoded data removed]",
      "text/plain": [
       "<Figure size 432x288 with 1 Axes>"
      ]
     },
     "metadata": {},
     "output_type": "display_data"
    }
   ],
   "source": [
    "import networkx as nx\n",
    "\n",
    "graph = nx.Graph()\n",
    "\n",
    "graph.add_node(\"A\")\n",
    "graph.add_node(\"B\")\n",
    "graph.add_node(\"C\")\n",
    "graph.add_node(\"D\")\n",
    "graph.add_node(\"E\")\n",
    "graph.add_node(\"F\")\n",
    "graph.add_node(\"G\")\n",
    "graph.add_node(\"H\")\n",
    "graph.add_node(\"I\")\n",
    "graph.add_node(\"J\")\n",
    "\n",
    "graph.add_edge(\"A\",\"D\",weight=2)\n",
    "graph.add_edge(\"B\",\"E\",weight=5)\n",
    "graph.add_edge(\"C\",\"B\",weight=9)\n",
    "graph.add_edge(\"A\",\"G\",weight=1)\n",
    "graph.add_edge(\"J\",\"D\",weight=3)\n",
    "graph.add_edge(\"H\",\"E\",weight=7)\n",
    "graph.add_edge(\"F\",\"B\",weight=4)\n",
    "graph.add_edge(\"J\",\"C\",weight=6)\n",
    "graph.add_edge(\"I\",\"H\",weight=8)\n",
    "graph.add_edge(\"E\",\"G\",weight=11)\n",
    "\n",
    "nx.draw(graph,with_labels = True)"
   ]
  },
  {
   "cell_type": "code",
   "execution_count": 2,
   "metadata": {},
   "outputs": [],
   "source": [
    "def getWeights(initialNode,listOfConnectedNodes):\n",
    "    \n",
    "    weights = []\n",
    "    for x in listOfConnectedNodes:\n",
    "        data = graph.get_edge_data(initialNode,x)\n",
    "        weights.append(data['weight'])\n",
    "    return weights"
   ]
  },
  {
   "cell_type": "code",
   "execution_count": 3,
   "metadata": {},
   "outputs": [],
   "source": [
    "def listOfConnectedNodes(g,node):\n",
    "    finalList = []\n",
    "    cntNodes = list(g.edges(node))\n",
    "    for x in range(0,len(cntNodes)):\n",
    "        finalList.append(cntNodes[x][1])\n",
    "    return finalList"
   ]
  },
  {
   "cell_type": "code",
   "execution_count": 4,
   "metadata": {},
   "outputs": [],
   "source": [
    "def getListOfMinimum(listOfWeights):\n",
    "    finalList = []\n",
    "    for x in range(0,len(listOfWeights)):\n",
    "        if listOfWeights[x][0] != \"*\" :\n",
    "            finalList.append(listOfWeights[x][0])\n",
    "    return finalList"
   ]
  },
  {
   "cell_type": "code",
   "execution_count": 5,
   "metadata": {},
   "outputs": [],
   "source": [
    "def getNode(val,dictionay):\n",
    "    for z in dictionay.keys():\n",
    "        if val == dictionay[z][0]:\n",
    "            return z"
   ]
  },
  {
   "cell_type": "markdown",
   "metadata": {},
   "source": [
    "# Breadth First Search"
   ]
  },
  {
   "cell_type": "code",
   "execution_count": 6,
   "metadata": {},
   "outputs": [],
   "source": [
    "def bfs(g,startingNode):\n",
    "    finalSequence = []\n",
    "    queueList = []\n",
    "    \n",
    "    finalSequence.append(startingNode)\n",
    "    queueList.append(startingNode)\n",
    "    \n",
    "    for j in range(0,len(list(g.nodes()))):\n",
    "        listOfNodes = listOfConnectedNodes(g,queueList[0])\n",
    "        \n",
    "        for x in listOfNodes:\n",
    "            \n",
    "            if x not in finalSequence:\n",
    "                finalSequence.append(x)\n",
    "                queueList.append(x)\n",
    "                \n",
    "        if len(queueList) > 0:\n",
    "            queueList.pop(0)\n",
    "            \n",
    "    print(finalSequence)"
   ]
  },
  {
   "cell_type": "code",
   "execution_count": 7,
   "metadata": {},
   "outputs": [
    {
     "name": "stdout",
     "output_type": "stream",
     "text": [
      "['A', 'D', 'G', 'J', 'E', 'C', 'B', 'H', 'F', 'I']\n"
     ]
    }
   ],
   "source": [
    "bfs(graph,\"A\")"
   ]
  },
  {
   "cell_type": "markdown",
   "metadata": {},
   "source": [
    "# Depth first search"
   ]
  },
  {
   "cell_type": "code",
   "execution_count": 15,
   "metadata": {},
   "outputs": [],
   "source": [
    "def dfs(g,startingNode):\n",
    "    stackList = []\n",
    "    stackList.append(startingNode)\n",
    "    finalSequence = []\n",
    "\n",
    "    while len(stackList) != 0:\n",
    "        \n",
    "        currentNode = stackList[len(stackList) - 1]\n",
    "        stackList.pop()\n",
    "        if currentNode not in finalSequence:\n",
    "            finalSequence.append(currentNode)\n",
    "        connectedNodes = listOfConnectedNodes(g,currentNode)\n",
    "        \n",
    "        for connectedNode in connectedNodes:\n",
    "            if connectedNode not in finalSequence:\n",
    "                stackList.append(connectedNode)\n",
    "    \n",
    "    print(finalSequence)"
   ]
  },
  {
   "cell_type": "code",
   "execution_count": 17,
   "metadata": {},
   "outputs": [
    {
     "name": "stdout",
     "output_type": "stream",
     "text": [
      "['D', 'J', 'C', 'B', 'F', 'E', 'G', 'A', 'H', 'I']\n"
     ]
    }
   ],
   "source": [
    "dfs(graph,\"D\")"
   ]
  },
  {
   "cell_type": "markdown",
   "metadata": {},
   "source": [
    "# Dijkstra Algorithm"
   ]
  },
  {
   "cell_type": "code",
   "execution_count": 10,
   "metadata": {},
   "outputs": [],
   "source": [
    "def dijkstraAlgorithm(g,startNode,endNode):\n",
    "    \n",
    "    shortestPath = []\n",
    "    \n",
    "    nodes = list(g.nodes())    \n",
    "    priorityDict = {node : [\"*\",\"*\"] for node in nodes}\n",
    "    alreadyVisited = []\n",
    "    currentWeight = 0\n",
    "    currentNode = startNode\n",
    "    \n",
    "    for m in range(0,len(nodes)):\n",
    "        alreadyVisited.append(currentNode)\n",
    "        connectedNodes = listOfConnectedNodes(g,currentNode)\n",
    "        weights = getWeights(currentNode,connectedNodes)\n",
    "        connectedNodesWeights = dict(zip(connectedNodes,weights))\n",
    "\n",
    "        for x in connectedNodesWeights.keys():\n",
    "            if x in priorityDict:\n",
    "                possibleShortPath = connectedNodesWeights[x] + currentWeight\n",
    "                if priorityDict[x][0] == \"*\" or possibleShortPath < priorityDict[x][0]:\n",
    "                    priorityDict[x][0] = possibleShortPath\n",
    "                    priorityDict[x][1] = currentNode\n",
    "            \n",
    "        listOfWeights = getListOfMinimum(list(priorityDict.values()))\n",
    "        for l in range (0,len(listOfWeights)):\n",
    "            currentWeight = min(listOfWeights)\n",
    "            currentNode = getNode(currentWeight,priorityDict)\n",
    "            if currentNode not in alreadyVisited or len(alreadyVisited) == len(nodes):\n",
    "                break\n",
    "            else:\n",
    "                listOfWeights.remove(min(listOfWeights))\n",
    "    \n",
    "    trivarsalNode = endNode\n",
    "    while True:\n",
    "        shortestPath.append(trivarsalNode)\n",
    "        trivarsalNode = priorityDict[trivarsalNode][1]\n",
    "        \n",
    "        if trivarsalNode == startNode:\n",
    "            shortestPath.append(trivarsalNode)\n",
    "            break\n",
    "    \n",
    "    for j in range(len(shortestPath) - 1,-1,-1):\n",
    "        print(shortestPath[j] + \" ----> \",end=\"\")\n",
    "        \n",
    "    print(\"Reached!\")"
   ]
  },
  {
   "cell_type": "code",
   "execution_count": 12,
   "metadata": {},
   "outputs": [
    {
     "name": "stdout",
     "output_type": "stream",
     "text": [
      "H ----> E ----> G ----> A ----> D ----> Reached!\n"
     ]
    }
   ],
   "source": [
    "dijkstraAlgorithm(graph,\"H\",\"D\")"
   ]
  },
  {
   "cell_type": "code",
   "execution_count": null,
   "metadata": {},
   "outputs": [],
   "source": []
  }
 ],
 "metadata": {
  "kernelspec": {
   "display_name": "Python 3",
   "language": "python",
   "name": "python3"
  },
  "language_info": {
   "codemirror_mode": {
    "name": "ipython",
    "version": 3
   },
   "file_extension": ".py",
   "mimetype": "text/x-python",
   "name": "python",
   "nbconvert_exporter": "python",
   "pygments_lexer": "ipython3",
   "version": "3.8.5"
  }
 },
 "nbformat": 4,
 "nbformat_minor": 4
}
